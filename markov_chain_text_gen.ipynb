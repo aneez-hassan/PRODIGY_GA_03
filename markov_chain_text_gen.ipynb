{
  "nbformat": 4,
  "nbformat_minor": 0,
  "metadata": {
    "colab": {
      "provenance": []
    },
    "kernelspec": {
      "name": "python3",
      "display_name": "Python 3"
    },
    "language_info": {
      "name": "python"
    }
  },
  "cells": [
    {
      "cell_type": "code",
      "execution_count": null,
      "metadata": {
        "id": "5mml_9smYfuO"
      },
      "outputs": [],
      "source": [
        "import random\n",
        "\n",
        "# Function to build a Markov chain model\n",
        "def build_markov_chain(text, n=2):\n",
        "    \"\"\"Builds a Markov chain with n-grams from given text.\"\"\"\n",
        "    words = text.split()\n",
        "    markov_chain = {}\n",
        "\n",
        "    for i in range(len(words) - n):\n",
        "        key = tuple(words[i:i+n])\n",
        "        next_word = words[i+n]\n",
        "        if key not in markov_chain:\n",
        "            markov_chain[key] = []\n",
        "        markov_chain[key].append(next_word)\n",
        "\n",
        "    return markov_chain\n",
        "\n",
        "# Function to generate text from Markov chain\n",
        "def generate_text(chain, length=50):\n",
        "    \"\"\"Generates text of given length from Markov chain.\"\"\"\n",
        "    key = random.choice(list(chain.keys()))\n",
        "    generated_words = list(key)\n",
        "\n",
        "    for _ in range(length):\n",
        "        next_words = chain.get(key, None)\n",
        "        if not next_words:\n",
        "            break\n",
        "        next_word = random.choice(next_words)\n",
        "        generated_words.append(next_word)\n",
        "        key = tuple(generated_words[-len(key):])\n",
        "\n",
        "    return ' '.join(generated_words)\n",
        "\n",
        "# Load text from a file or sample string\n",
        "sample_text = \"\"\"\n",
        "Once upon a time there was a small village. The villagers were kind and helpful.\n",
        "They lived in harmony with nature and celebrated every festival together.\n",
        "Life was peaceful and everyone respected each other.\n",
        "\"\"\"\n",
        "\n",
        "# Build the Markov chain model\n",
        "markov_chain = build_markov_chain(sample_text, n=2)\n",
        "\n",
        "# Generate text\n",
        "print(\"Generated Text:\\n\")\n",
        "print(generate_text(markov_chain, length=30))\n"
      ]
    }
  ]
}